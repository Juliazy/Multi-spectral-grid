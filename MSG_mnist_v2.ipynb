{
 "cells": [
  {
   "cell_type": "code",
   "execution_count": 1,
   "metadata": {},
   "outputs": [
    {
     "name": "stderr",
     "output_type": "stream",
     "text": [
      "/anaconda3/lib/python3.6/site-packages/h5py/__init__.py:36: FutureWarning: Conversion of the second argument of issubdtype from `float` to `np.floating` is deprecated. In future, it will be treated as `np.float64 == np.dtype(float).type`.\n",
      "  from ._conv import register_converters as _register_converters\n"
     ]
    }
   ],
   "source": [
    "# load libs# load  \n",
    "import torch\n",
    "import argparse\n",
    "from torchvision import datasets, transforms\n",
    "import matplotlib.pyplot as plt\n",
    "import numpy as np\n",
    "from data.datasets import MNIST\n",
    "import torch.utils.data as data_utils\n",
    "from sklearn.decomposition import PCA\n",
    "import torch.nn.functional as F\n",
    "from torch.autograd import Variable"
   ]
  },
  {
   "cell_type": "code",
   "execution_count": 2,
   "metadata": {},
   "outputs": [
    {
     "name": "stdout",
     "output_type": "stream",
     "text": [
      "0.3.1.post2\n",
      "1.14.0\n"
     ]
    }
   ],
   "source": [
    "'''\n",
    "@ Original 28x28 is rescaled to 32x32 to meet 2^P size\n",
    "@ batch_size and workders can be increased for faster loading\n",
    "'''\n",
    "print(torch.__version__)\n",
    "print(np.__version__)\n",
    "sample_num = 1000\n",
    "low_channel = 15\n",
    "mid_channel = 15\n",
    "hig_channel = 16 - mid_channel\n",
    "batch_size=1\n",
    "test_batch_size=1\n",
    "kwargs={}\n",
    "train_loader = data_utils.DataLoader(MNIST(root='./data',train=True,process=False,transform=transforms.Compose([\n",
    "    transforms.Resize((32,32)),\n",
    "    transforms.ToTensor(),\n",
    "])),batch_size=batch_size,shuffle=False,**kwargs)\n",
    "\n",
    "\n",
    "test_loader = data_utils.DataLoader(MNIST(root='./data',train=False,process=False,transform=transforms.Compose([\n",
    "    transforms.Resize((32,32)),\n",
    "    transforms.ToTensor(),\n",
    "])),batch_size=test_batch_size,shuffle=False,**kwargs)"
   ]
  },
  {
   "cell_type": "code",
   "execution_count": 3,
   "metadata": {},
   "outputs": [],
   "source": [
    "'''\n",
    "@ For demo use, only use first 100 samples\n",
    "'''\n",
    "def create_numpy_dataset():\n",
    "    datasets = []\n",
    "    labels = []\n",
    "    for data in train_loader:\n",
    "        data_numpy = data[0].numpy()\n",
    "        label_numpy = data[1].numpy()\n",
    "        data_numpy = np.squeeze(data_numpy)\n",
    "        datasets.append(data_numpy)\n",
    "        labels.append(label_numpy)\n",
    "\n",
    "    datasets = np.array(datasets)\n",
    "    labels = np.array(labels)\n",
    "    datasets=np.expand_dims(datasets,axis=1)\n",
    "    return datasets, labels"
   ]
  },
  {
   "cell_type": "code",
   "execution_count": 4,
   "metadata": {},
   "outputs": [],
   "source": [
    "def train_digit(digit):\n",
    "\n",
    "    # Get all the training '1' digits for our \"real\" data\n",
    "    # datasets, labels = create_numpy_dataset()\n",
    "    train_digits_of_interest = []\n",
    "    for i in range(60000):\n",
    "        if labels[i] == digit:\n",
    "            train_digits_of_interest.append(datasets[i])\n",
    "    train_digits_of_interest = np.array(train_digits_of_interest)\n",
    "#     train_digits_of_interest = np.expand_dims(train_digits_of_interest,axis=1)\n",
    "\n",
    "#     test_digits_of_interest = []\n",
    "#     for image, label in zip(mnist.test.images, mnist.test.labels):\n",
    "#         if label[digit]:\n",
    "#             test_digits_of_interest.append(image)\n",
    "    return train_digits_of_interest"
   ]
  },
  {
   "cell_type": "code",
   "execution_count": 5,
   "metadata": {},
   "outputs": [
    {
     "name": "stdout",
     "output_type": "stream",
     "text": [
      "number of digit 8:  (5851, 1, 32, 32)\n"
     ]
    },
    {
     "data": {
      "text/plain": [
       "{0: 5923,\n",
       " 1: 6742,\n",
       " 2: 5958,\n",
       " 3: 6131,\n",
       " 4: 5842,\n",
       " 5: 5421,\n",
       " 6: 5918,\n",
       " 7: 6265,\n",
       " 8: 5851,\n",
       " 9: 5949}"
      ]
     },
     "execution_count": 5,
     "metadata": {},
     "output_type": "execute_result"
    }
   ],
   "source": [
    "datasets, labels = create_numpy_dataset()\n",
    "train_digits_of_interest = train_digit(8)\n",
    "print('number of digit 8: ', train_digits_of_interest.shape)\n",
    "unique, counts = np.unique(labels, return_counts=True)\n",
    "dict(zip(unique, counts))"
   ]
  },
  {
   "cell_type": "code",
   "execution_count": 6,
   "metadata": {},
   "outputs": [
    {
     "data": {
      "text/plain": [
       "<matplotlib.image.AxesImage at 0x1a23d4fc50>"
      ]
     },
     "execution_count": 6,
     "metadata": {},
     "output_type": "execute_result"
    },
    {
     "data": {
      "image/png": "[encoded data removed]",
      "text/plain": [
       "<matplotlib.figure.Figure at 0x1a1f812b38>"
      ]
     },
     "metadata": {},
     "output_type": "display_data"
    }
   ],
   "source": [
    "# print(train_digits_of_interest[5,0,0:31,0:31])\n",
    "plt.imshow(train_digits_of_interest[5,0,:,:])"
   ]
  },
  {
   "cell_type": "code",
   "execution_count": 6,
   "metadata": {},
   "outputs": [],
   "source": [
    "'''\n",
    "datasets_even_even, datasets_even_odd, datasets_odd_even, datasets_odd_odd\n",
    "represents four locations in one 2*2 patch\n",
    "'''\n",
    "from copy import deepcopy\n",
    "def periodic_sampling(datasets):\n",
    "    \n",
    "    l = np.arange(32)\n",
    "    evenmask = (l%2 == 0)\n",
    "    oddmask = (l%2 == 1)\n",
    "    datasets_even = deepcopy(datasets[:,:,evenmask,:])\n",
    "#     plt.imshow(datasets_even[0,0,:,:])\n",
    "#     plt.show()\n",
    "    datasets_odd = deepcopy(datasets[:,:,oddmask,:])\n",
    "#     plt.imshow(datasets_odd[0,0,:,:])\n",
    "#     plt.show()\n",
    "\n",
    "    datasets_even_even = deepcopy(datasets_even[:,:,:,evenmask])\n",
    "#     plt.imshow(datasets_even_even[0,0,:,:])\n",
    "#     plt.show()\n",
    "\n",
    "    datasets_even_odd = deepcopy(datasets_even[:,:,:,oddmask])\n",
    "#     plt.imshow(datasets_even_odd[0,0,:,:])\n",
    "#     plt.show()\n",
    "\n",
    "    datasets_odd_even = deepcopy(datasets_odd[:,:,:,evenmask])\n",
    "#     plt.imshow(datasets_odd_even[0,0,:,:])\n",
    "#     plt.show()\n",
    "\n",
    "    datasets_odd_odd = deepcopy(datasets_odd[:,:,:,oddmask])\n",
    "#     plt.imshow(datasets_odd_odd[0,0,:,:])\n",
    "#     plt.show()\n",
    "    return datasets_even_even[:sample_num], datasets_even_odd[:sample_num], datasets_odd_even[:sample_num], datasets_odd_odd[:sample_num]\n"
   ]
  },
  {
   "cell_type": "code",
   "execution_count": 7,
   "metadata": {},
   "outputs": [
    {
     "name": "stdout",
     "output_type": "stream",
     "text": [
      "even_even dataset shape is:  (1000, 1, 16, 16)\n"
     ]
    }
   ],
   "source": [
    "train_ee, train_eo, train_oe, train_oo = periodic_sampling(train_digits_of_interest)\n",
    "print('even_even dataset shape is: ', train_ee.shape)\n"
   ]
  },
  {
   "cell_type": "code",
   "execution_count": null,
   "metadata": {},
   "outputs": [],
   "source": [
    "plt.imshow(train_ee[5,0,:,:])\n",
    "plt.show()\n",
    "plt.imshow(train_eo[5,0,:,:])\n",
    "plt.show()\n",
    "plt.imshow(train_oe[5,0,:,:])\n",
    "plt.show()\n",
    "plt.imshow(train_oo[5,0,:,:])\n",
    "plt.show()"
   ]
  },
  {
   "cell_type": "code",
   "execution_count": 8,
   "metadata": {},
   "outputs": [],
   "source": [
    "'''\n",
    "@ depth: determine shape, initial: 0\n",
    "'''\n",
    "from itertools import product\n",
    "def fit_pca_shape(datasets,depth):\n",
    "    factor=np.power(4,depth)\n",
    "    length=int(16/factor)\n",
    "    #length=32/factor\n",
    "    idx1=range(0,length,4)\n",
    "    idx2=[i+4 for i in idx1]\n",
    "    data_lattice=[datasets[:,:,i:j,k:l] for ((i,j),(k,l)) in product(zip(idx1,idx2),zip(idx1,idx2))]\n",
    "    data_lattice=np.array(data_lattice)\n",
    "    print('fit_pca_shape: data_lattice.shape: {}'.format(data_lattice.shape)) \n",
    "\n",
    "    #shape reshape\n",
    "    data=np.reshape(data_lattice,(data_lattice.shape[0]*data_lattice.shape[1],data_lattice.shape[2],4,4))\n",
    "    print('fit_pca_shape: reshape: {}'.format(data.shape)) \n",
    "    return data"
   ]
  },
  {
   "cell_type": "code",
   "execution_count": 9,
   "metadata": {},
   "outputs": [],
   "source": [
    "'''\n",
    "@ return: augmented anchors\n",
    "'''\n",
    "def PCA_and_augment(data_in):\n",
    "    # data reshape\n",
    "    data=np.reshape(data_in,(data_in.shape[0],-1))\n",
    "    mean=np.mean(data,axis=0)\n",
    "    datas_mean_remov = data - mean\n",
    "\n",
    "    pca=PCA()\n",
    "    datas_mean_remov.astype(np.float64)\n",
    "    pca.fit(datas_mean_remov)\n",
    "    comps=pca.components_\n",
    "\n",
    "#     if comps[-1][0]<0:\n",
    "#         for i in comps:\n",
    "#             i*=-1\n",
    "#     comps_aug=[vec*(-1) for vec in comps]\n",
    "#     comps_complete=np.vstack((comps,comps_aug))\n",
    "    \n",
    "    return comps,mean"
   ]
  },
  {
   "cell_type": "code",
   "execution_count": 10,
   "metadata": {},
   "outputs": [],
   "source": [
    "'''\n",
    "@ Prepare shape changes. \n",
    "@ return filters for convolution\n",
    "@ aug_anchors: [out_num*in_num,4] -> [out_num,in_num,2,2]\n",
    "'''\n",
    "def ret_filt_patches(aug_anchors,input_channels):\n",
    "    shape=int(aug_anchors.shape[1]/16)\n",
    "    num=int(aug_anchors.shape[0])\n",
    "    filt=np.reshape(aug_anchors,(num,shape,16))\n",
    "    \n",
    "    # reshape to kernels, (# output_channels,# input_channels,4,4)\n",
    "    filters=np.reshape(filt,(num,shape,4,4))\n",
    "\n",
    "    return filters"
   ]
  },
  {
   "cell_type": "code",
   "execution_count": 11,
   "metadata": {},
   "outputs": [],
   "source": [
    "'''\n",
    "@ input: kernel and data\n",
    "@ output: conv result\n",
    "'''\n",
    "def conv(filters,datasets,stride=4):\n",
    "    # torch data change\n",
    "    \n",
    "    filters_t=torch.from_numpy(filters)\n",
    "    datasets_t=torch.from_numpy(datasets)\n",
    "\n",
    "    # Variables\n",
    "    filt=Variable(filters_t).type(torch.FloatTensor)\n",
    "    data=Variable(datasets_t).type(torch.FloatTensor)\n",
    "\n",
    "    # Convolution\n",
    "    output=F.conv2d(data,filt,stride=stride)\n",
    "\n",
    "\n",
    "    return output,filt"
   ]
  },
  {
   "cell_type": "code",
   "execution_count": 12,
   "metadata": {},
   "outputs": [],
   "source": [
    "# import math\n",
    "\n",
    "# def psnr(img1, img2):\n",
    "#     mse = np.mean( (img1 - img2) ** 2 )\n",
    "#     if mse == 0:\n",
    "#         return 100\n",
    "#     PIXEL_MAX = 1.0\n",
    "#     return 20 * math.log10(PIXEL_MAX / math.sqrt(mse))\n",
    "def psnr(im1,im2):\n",
    "    diff =(im1 - im2)\n",
    "    diff=diff**2\n",
    "    rmse=np.sqrt(np.mean(diff.sum()))\n",
    "    psnr = 20*np.log10(1/rmse)\n",
    "    return psnr"
   ]
  },
  {
   "cell_type": "code",
   "execution_count": 13,
   "metadata": {},
   "outputs": [],
   "source": [
    "'''\n",
    "@ One-stage Saak transform\n",
    "@ input: datasets [60000,channel,size,size]\n",
    "'''\n",
    "def one_stage_saak_trans(train_ee,train_eo,train_oe,train_oo,depth=0):\n",
    "\n",
    "    print('one_stage_saak_trans: periodic sampling dataset.shape {}'.format(train_ee.shape)) \n",
    "    input_channels=train_ee.shape[1]\n",
    "\n",
    "    data_flatten_ee = fit_pca_shape(train_ee,depth)\n",
    "    data_flatten_eo = fit_pca_shape(train_eo,depth)\n",
    "    data_flatten_oe = fit_pca_shape(train_oe,depth)\n",
    "    data_flatten_oo = fit_pca_shape(train_oo,depth)\n",
    "\n",
    "    \n",
    "    # comps,mean=PCA_and_augment(data_flatten)\n",
    "    comps_ee,mean_ee=PCA_and_augment(data_flatten_ee)\n",
    "    comps_eo,mean_eo=PCA_and_augment(data_flatten_eo)\n",
    "    comps_oe,mean_oe=PCA_and_augment(data_flatten_oe)\n",
    "    comps_oo,mean_oo=PCA_and_augment(data_flatten_oo)\n",
    "\n",
    "    # filters=ret_filt_patches(comps,input_channels)\n",
    "    filters_ee=ret_filt_patches(comps_ee,input_channels)\n",
    "    filters_eo=ret_filt_patches(comps_eo,input_channels)\n",
    "    filters_oe=ret_filt_patches(comps_oe,input_channels)\n",
    "    filters_oo=ret_filt_patches(comps_oo,input_channels)\n",
    "    print('one_stage_saak_trans: filters: {}'.format(filters_ee.shape)) \n",
    "\n",
    "    # mean=np.mean(datasets,axis=0)\n",
    "    # datasets-=mean\n",
    "    # output,filt=conv_and_relu(filters,datasets,stride=4)\n",
    "    # res=output.data.numpy()\n",
    "\n",
    "    mean_ee=np.mean(train_ee,axis=0)\n",
    "    train_ee-=mean_ee\n",
    "    output_ee,filt_ee=conv(filters_ee,train_ee,stride=4)\n",
    "    res_ee=output_ee.data.numpy()\n",
    "    \n",
    "    mean_eo=np.mean(train_eo,axis=0)\n",
    "    train_eo-=mean_eo\n",
    "    output_eo,filt_eo=conv(filters_eo,train_eo,stride=4)\n",
    "    res_eo=output_eo.data.numpy()\n",
    "    \n",
    "    mean_oe=np.mean(train_oe,axis=0)\n",
    "    train_oe-=mean_oe\n",
    "    output_oe,filt_oe=conv(filters_oe,train_oe,stride=4)\n",
    "    res_oe=output_oe.data.numpy()\n",
    "\n",
    "    mean_oo=np.mean(train_oo,axis=0)\n",
    "    train_oo-=mean_oo\n",
    "    output_oo,filt_oo=conv(filters_oo,train_oo,stride=4)\n",
    "    res_oo=output_oo.data.numpy()\n",
    "   \n",
    "    print('one_stage_saak_trans final.shape: {}'.format(res_ee.shape)) \n",
    "\n",
    "    return res_ee, res_eo, res_oe, res_oo, filt_ee, filt_eo, filt_oe, filt_oo, mean_ee, mean_eo, mean_oe, mean_oo\n",
    "# Variable(torch.from_numpy(res))"
   ]
  },
  {
   "cell_type": "code",
   "execution_count": 14,
   "metadata": {},
   "outputs": [
    {
     "name": "stdout",
     "output_type": "stream",
     "text": [
      "one_stage_saak_trans: periodic sampling dataset.shape (1000, 1, 16, 16)\n",
      "fit_pca_shape: data_lattice.shape: (16, 1000, 1, 4, 4)\n",
      "fit_pca_shape: reshape: (16000, 1, 4, 4)\n",
      "fit_pca_shape: data_lattice.shape: (16, 1000, 1, 4, 4)\n",
      "fit_pca_shape: reshape: (16000, 1, 4, 4)\n",
      "fit_pca_shape: data_lattice.shape: (16, 1000, 1, 4, 4)\n",
      "fit_pca_shape: reshape: (16000, 1, 4, 4)\n",
      "fit_pca_shape: data_lattice.shape: (16, 1000, 1, 4, 4)\n",
      "fit_pca_shape: reshape: (16000, 1, 4, 4)\n",
      "one_stage_saak_trans: filters: (16, 1, 4, 4)\n",
      "one_stage_saak_trans final.shape: (1000, 16, 4, 4)\n"
     ]
    }
   ],
   "source": [
    "res1_ee, res1_eo, res1_oe, res1_oo, filt1_ee, filt1_eo, filt1_oe, filt1_oo, mean1_ee, mean1_eo, mean1_oe, mean1_oo = one_stage_saak_trans(train_ee,train_eo,train_oe,train_oo,depth=0)"
   ]
  },
  {
   "cell_type": "code",
   "execution_count": 30,
   "metadata": {},
   "outputs": [],
   "source": [
    "'''\n",
    "@ debug: randomly zero one slice\n",
    "'''\n",
    "def deb_zero_slice(res1_ee, filt1_ee, mean1_ee, slice_num):\n",
    "    deb_res1_ee_1 = deepcopy(res1_ee)\n",
    "    deb_res1_ee_1[:,slice_num,:,:] = 0\n",
    "    deb_res1_ee_1t = Variable(torch.from_numpy(deb_res1_ee_1))\n",
    "    deb_train_ee_1t = F.conv_transpose2d(deb_res1_ee_1t, filt1_ee, stride=4)\n",
    "    deb_train_ee_1t += Variable(torch.from_numpy(mean1_ee))\n",
    "    deb_train_ee_1 = deb_train_ee_1t.data.numpy()\n",
    "    # plt.imshow(deb_train_ee_1[5,0,:,:])\n",
    "    plt.show()\n",
    "    return deb_train_ee_1"
   ]
  },
  {
   "cell_type": "code",
   "execution_count": 26,
   "metadata": {},
   "outputs": [],
   "source": [
    "# last slice zero\n",
    "deb_train_ee_16 = deb_zero_slice(res1_ee, filt1_ee, mean1_ee, -1)\n",
    "deb_train_eo_16 = deb_zero_slice(res1_eo, filt1_eo, mean1_eo, -1)\n",
    "deb_train_oe_16 = deb_zero_slice(res1_oe, filt1_oe, mean1_oe, -1)\n",
    "deb_train_oo_16 = deb_zero_slice(res1_oo, filt1_oo, mean1_oo, -1)"
   ]
  },
  {
   "cell_type": "code",
   "execution_count": 31,
   "metadata": {},
   "outputs": [],
   "source": [
    "# third slice zero\n",
    "deb_train_ee_7 = deb_zero_slice(res1_ee, filt1_ee, mean1_ee, 6)\n",
    "deb_train_eo_7 = deb_zero_slice(res1_eo, filt1_eo, mean1_eo, 6)\n",
    "deb_train_oe_7 = deb_zero_slice(res1_oe, filt1_oe, mean1_oe, 6)\n",
    "deb_train_oo_7 = deb_zero_slice(res1_oo, filt1_oo, mean1_oo, 6)"
   ]
  },
  {
   "cell_type": "code",
   "execution_count": 33,
   "metadata": {},
   "outputs": [],
   "source": [
    "# third slice zero\n",
    "deb_train_ee_13 = deb_zero_slice(res1_ee, filt1_ee, mean1_ee, 12)\n",
    "deb_train_eo_13 = deb_zero_slice(res1_eo, filt1_eo, mean1_eo, 12)\n",
    "deb_train_oe_13 = deb_zero_slice(res1_oe, filt1_oe, mean1_oe, 12)\n",
    "deb_train_oo_13 = deb_zero_slice(res1_oo, filt1_oo, mean1_oo, 12)"
   ]
  },
  {
   "cell_type": "code",
   "execution_count": 20,
   "metadata": {},
   "outputs": [],
   "source": [
    "'''\n",
    "@ debug reconstruct from the first stage\n",
    "'''\n",
    "def recon_from_first(res1_ee, filt1_ee, mean1_ee):\n",
    "    # print(mean1_ee.shape)\n",
    "    res1_ee_t = Variable(torch.from_numpy(res1_ee))\n",
    "    # filt1_ee_t = Variable(torch.from_numpy(filt1_ee))\n",
    "    debug1_ee = F.conv_transpose2d(res1_ee_t, filt1_ee, stride=4)\n",
    "    # print(debug1_ee.data.numpy().shape)\n",
    "    # mean1_ee=np.reshape(mean2_ee,(8,4,4))\n",
    "    debug1_ee += Variable(torch.from_numpy(mean1_ee))\n",
    "    debug1_ee = debug1_ee.data.numpy()\n",
    "    print('reconstructed shape:', debug1_ee.shape)\n",
    "    return debug1_ee\n",
    "    # plt.imshow(debug1_ee[5,0,:,:])\n",
    "    # psnr(train_ee[5,0,:,:], debug1_ee[5,0,:,:])"
   ]
  },
  {
   "cell_type": "code",
   "execution_count": 21,
   "metadata": {},
   "outputs": [
    {
     "name": "stdout",
     "output_type": "stream",
     "text": [
      "reconstructed shape: (1000, 1, 16, 16)\n",
      "reconstructed shape: (1000, 1, 16, 16)\n",
      "reconstructed shape: (1000, 1, 16, 16)\n",
      "reconstructed shape: (1000, 1, 16, 16)\n"
     ]
    }
   ],
   "source": [
    "debug1ee = recon_from_first(res1_ee, filt1_ee, mean1_ee)\n",
    "debug1eo = recon_from_first(res1_eo, filt1_eo, mean1_eo)\n",
    "debug1oe = recon_from_first(res1_oe, filt1_oe, mean1_oe)\n",
    "debug1oo = recon_from_first(res1_oo, filt1_oo, mean1_oo)\n"
   ]
  },
  {
   "cell_type": "code",
   "execution_count": 18,
   "metadata": {},
   "outputs": [],
   "source": [
    "'''\n",
    "@ reconstruct four images to one 32*32\n",
    "'''\n",
    "def reverse_downsample(rec2_ee, rec2_eo, rec2_oe, rec2_oo):\n",
    "    syn = np.zeros((sample_num,1,32,32))\n",
    "    print(syn[:,:,1::2,1::2].shape)\n",
    "    syn[:,:,0:-1:2,0:-1:2]=rec2_ee\n",
    "    syn[:,:,0:-1:2,1::2]=rec2_eo\n",
    "    syn[:,:,1::2,0:-1:2]=rec2_oe\n",
    "    syn[:,:,1::2,1::2]=rec2_oo\n",
    "\n",
    "    # print(syn[5,0,0:31, 0:31])\n",
    "    plt.imshow(syn[5,0,:,:])\n",
    "    plt.show()\n",
    "    print('psnr:', psnr(train_digits_of_interest[5,0,:,:], syn[5,0,:,:]))\n",
    "    return syn"
   ]
  },
  {
   "cell_type": "code",
   "execution_count": 22,
   "metadata": {},
   "outputs": [
    {
     "name": "stdout",
     "output_type": "stream",
     "text": [
      "(1000, 1, 16, 16)\n"
     ]
    },
    {
     "data": {
      "image/png": "[encoded data removed]",
      "text/plain": [
       "<matplotlib.figure.Figure at 0x1a21890be0>"
      ]
     },
     "metadata": {},
     "output_type": "display_data"
    },
    {
     "name": "stdout",
     "output_type": "stream",
     "text": [
      "psnr: 109.73274005103801\n"
     ]
    }
   ],
   "source": [
    "debug1 = reverse_downsample(debug1ee, debug1eo, debug1oe, debug1oo)"
   ]
  },
  {
   "cell_type": "code",
   "execution_count": 23,
   "metadata": {
    "scrolled": true
   },
   "outputs": [
    {
     "name": "stdout",
     "output_type": "stream",
     "text": [
      "one_stage_saak_trans: periodic sampling dataset.shape (1000, 16, 4, 4)\n",
      "fit_pca_shape: data_lattice.shape: (1, 1000, 16, 4, 4)\n",
      "fit_pca_shape: reshape: (1000, 16, 4, 4)\n",
      "fit_pca_shape: data_lattice.shape: (1, 1000, 16, 4, 4)\n",
      "fit_pca_shape: reshape: (1000, 16, 4, 4)\n",
      "fit_pca_shape: data_lattice.shape: (1, 1000, 16, 4, 4)\n",
      "fit_pca_shape: reshape: (1000, 16, 4, 4)\n",
      "fit_pca_shape: data_lattice.shape: (1, 1000, 16, 4, 4)\n",
      "fit_pca_shape: reshape: (1000, 16, 4, 4)\n",
      "one_stage_saak_trans: filters: (256, 16, 4, 4)\n",
      "one_stage_saak_trans final.shape: (1000, 256, 1, 1)\n"
     ]
    }
   ],
   "source": [
    "'''\n",
    "@ debug: lossless second stage saak transform\n",
    "'''\n",
    "deres2_ee, deres2_eo, deres2_oe, deres2_oo,defilt2_ee, defilt2_eo, defilt2_oe, defilt2_oo, demean2_ee, demean2_eo, demean2_oe, demean2_oo = one_stage_saak_trans(res1_ee,res1_eo,res1_oe,res1_oo,depth=1)"
   ]
  },
  {
   "cell_type": "code",
   "execution_count": 26,
   "metadata": {},
   "outputs": [],
   "source": [
    "'''\n",
    "@ debug: reconstruct using lossless result\n",
    "'''\n",
    "def recon_from_second(deres2_ee, defilt2_ee, demean2_ee, filt1_ee, mean1_ee):\n",
    "    # first recon\n",
    "    deres2_ee_t = Variable(torch.from_numpy(deres2_ee))\n",
    "    debugrec1_ee = F.conv_transpose2d(deres2_ee_t, defilt2_ee, stride=4)\n",
    "    # print(debugrec1_ee.data.numpy().shape)\n",
    "    debugrec1_ee += Variable(torch.from_numpy(demean2_ee))\n",
    "    # debugrec1_ee = debugrec1_ee.data.numpy()\n",
    "    print(debugrec1_ee.data.numpy().shape)\n",
    "\n",
    "    # second recon\n",
    "    debugrec2_ee = F.conv_transpose2d(debugrec1_ee, filt1_ee, stride=4)\n",
    "    # print(debugrec2_ee.data.numpy().shape)\n",
    "    debugrec2_ee += Variable(torch.from_numpy(mean1_ee))\n",
    "    debugrec2_ee = debugrec2_ee.data.numpy()\n",
    "    print(debugrec2_ee.shape)\n",
    "    # plt.imshow(debugrec2_ee[5,0,:,:])\n",
    "    # psnr(train_ee[5,0,:,:], debugrec2_ee[5,0,:,:])\n",
    "    return debugrec2_ee\n"
   ]
  },
  {
   "cell_type": "code",
   "execution_count": 27,
   "metadata": {},
   "outputs": [
    {
     "name": "stdout",
     "output_type": "stream",
     "text": [
      "(1000, 16, 4, 4)\n",
      "(1000, 1, 16, 16)\n",
      "(1000, 16, 4, 4)\n",
      "(1000, 1, 16, 16)\n",
      "(1000, 16, 4, 4)\n",
      "(1000, 1, 16, 16)\n",
      "(1000, 16, 4, 4)\n",
      "(1000, 1, 16, 16)\n"
     ]
    }
   ],
   "source": [
    "debug2ee = recon_from_second(deres2_ee, defilt2_ee, demean2_ee, filt1_ee, mean1_ee)\n",
    "debug2eo = recon_from_second(deres2_eo, defilt2_eo, demean2_eo, filt1_eo, mean1_eo)\n",
    "debug2oe = recon_from_second(deres2_oe, defilt2_oe, demean2_oe, filt1_oe, mean1_oe)\n",
    "debug2oo = recon_from_second(deres2_oo, defilt2_oo, demean2_oo, filt1_oo, mean1_oo)\n"
   ]
  },
  {
   "cell_type": "code",
   "execution_count": 28,
   "metadata": {},
   "outputs": [
    {
     "name": "stdout",
     "output_type": "stream",
     "text": [
      "(1000, 1, 16, 16)\n"
     ]
    },
    {
     "data": {
      "image/png": "[encoded data removed]",
      "text/plain": [
       "<matplotlib.figure.Figure at 0x1a220ec9b0>"
      ]
     },
     "metadata": {},
     "output_type": "display_data"
    },
    {
     "name": "stdout",
     "output_type": "stream",
     "text": [
      "psnr: 104.14869711779718\n"
     ]
    }
   ],
   "source": [
    "debug2 = reverse_downsample(debug2ee, debug2eo, debug2oe, debug2oo)"
   ]
  },
  {
   "cell_type": "code",
   "execution_count": 29,
   "metadata": {},
   "outputs": [
    {
     "name": "stdout",
     "output_type": "stream",
     "text": [
      "false\n"
     ]
    }
   ],
   "source": [
    "'''\n",
    "@ low, middle, high frequency should be in terms of the result of first stage.\n",
    "'''\n",
    "res1_ee_low = deepcopy(res1_ee[:,:low_channel,:,:])\n",
    "res1_eo_low = deepcopy(res1_eo[:,:low_channel,:,:])\n",
    "res1_oe_low = deepcopy(res1_oe[:,:low_channel,:,:])\n",
    "res1_oo_low = deepcopy(res1_oo[:,:low_channel,:,:])\n",
    "\n",
    "if (low_channel != mid_channel):\n",
    "    print('true')\n",
    "    res1_ee_mid = deepcopy(res1_ee[:,low_channel:mid_channel,:,:])\n",
    "    res1_eo_mid = deepcopy(res1_eo[:,low_channel:mid_channel,:,:])\n",
    "    res1_oe_mid = deepcopy(res1_oe[:,low_channel:mid_channel,:,:])\n",
    "    res1_oo_mid = deepcopy(res1_oo[:,low_channel:mid_channel,:,:])\n",
    "\n",
    "if (hig_channel != 0):\n",
    "    print('false')\n",
    "    res1_ee_hig = np.zeros((sample_num,hig_channel,4,4))\n",
    "    res1_eo_hig = np.zeros((sample_num,hig_channel,4,4))    \n",
    "    res1_oe_hig = np.zeros((sample_num,hig_channel,4,4))\n",
    "    res1_oo_hig = np.zeros((sample_num,hig_channel,4,4)) \n"
   ]
  },
  {
   "cell_type": "code",
   "execution_count": 30,
   "metadata": {},
   "outputs": [
    {
     "name": "stdout",
     "output_type": "stream",
     "text": [
      "(1000, 15, 4, 4)\n",
      "(1000, 1, 4, 4)\n"
     ]
    },
    {
     "data": {
      "text/plain": [
       "1"
      ]
     },
     "execution_count": 30,
     "metadata": {},
     "output_type": "execute_result"
    }
   ],
   "source": [
    "print(res1_ee_low.shape)\n",
    "# print(res1_ee_mid.shape)\n",
    "print(res1_ee_hig.shape)\n",
    "hig_channel"
   ]
  },
  {
   "cell_type": "code",
   "execution_count": 31,
   "metadata": {},
   "outputs": [
    {
     "name": "stdout",
     "output_type": "stream",
     "text": [
      "one_stage_saak_trans: periodic sampling dataset.shape (1000, 15, 4, 4)\n",
      "fit_pca_shape: data_lattice.shape: (1, 1000, 15, 4, 4)\n",
      "fit_pca_shape: reshape: (1000, 15, 4, 4)\n",
      "fit_pca_shape: data_lattice.shape: (1, 1000, 15, 4, 4)\n",
      "fit_pca_shape: reshape: (1000, 15, 4, 4)\n",
      "fit_pca_shape: data_lattice.shape: (1, 1000, 15, 4, 4)\n",
      "fit_pca_shape: reshape: (1000, 15, 4, 4)\n",
      "fit_pca_shape: data_lattice.shape: (1, 1000, 15, 4, 4)\n",
      "fit_pca_shape: reshape: (1000, 15, 4, 4)\n",
      "one_stage_saak_trans: filters: (240, 15, 4, 4)\n",
      "one_stage_saak_trans final.shape: (1000, 240, 1, 1)\n"
     ]
    }
   ],
   "source": [
    "res2_ee_low, res2_eo_low, res2_oe_low, res2_oo_low, filt2_ee_low, filt2_eo_low, filt2_oe_low, filt2_oo_low, mean2_ee_low, mean2_eo_low, mean2_oe_low, mean2_oo_low = one_stage_saak_trans(res1_ee_low, res1_eo_low, res1_oe_low, res1_oo_low, 1)\n",
    "# 现在是全部保留，后面res2_ee_low要截取一部分"
   ]
  },
  {
   "cell_type": "code",
   "execution_count": null,
   "metadata": {},
   "outputs": [],
   "source": [
    "'''\n",
    "@ debug: randomly pick up a slice of res1_ee and set it to zero\n",
    "'''\n",
    "deb_res2_ee, deb_res2_eo, deb_res2_oe, deb_res2_oo, deb_filt2_ee, deb_filt2_eo, deb_filt2_oe, deb_filt2_oo, deb_mean2_ee, deb_mean2_eo, deb_mean2_oe, deb_mean2_oo = one_stage_saak_trans(res1_ee[:,1:16,:,:], res1_eo[:,1:16,:,:], res1_oe[:,1:16,:,:], res1_oo[:,1:16,:,:], 1)\n"
   ]
  },
  {
   "cell_type": "code",
   "execution_count": null,
   "metadata": {},
   "outputs": [],
   "source": [
    "'''\n",
    "@ debug\n",
    "'''\n",
    "def debug_throw_1st_res1(deb_res2_ee, deb_filt2_ee, deb_mean2_ee, filt1_ee, mean1_ee):\n",
    "    # first reconstruction\n",
    "    deb_res2_ee_t = Variable(torch.from_numpy(deb_res2_ee))\n",
    "    deb_rec1_ee = F.conv_transpose2d(deb_res2_ee_t, deb_filt2_ee, stride=4)\n",
    "    print(deb_rec1_ee.data.numpy().shape)\n",
    "    deb_rec1_ee += Variable(torch.from_numpy(deb_mean2_ee))\n",
    "\n",
    "    # concatenate with res1_ee 1st slice\n",
    "    temp_res1_ee_1 = np.zeros((sample_num, 1, 4, 4))\n",
    "    temp_res1_ee_1t = Variable(torch.from_numpy(temp_res1_ee_1)).type(torch.FloatTensor)\n",
    "\n",
    "    deb_ee_comb_t = torch.cat((temp_res1_ee_1t, deb_rec1_ee),1)\n",
    "    print(deb_ee_comb_t.data.numpy().shape)\n",
    "\n",
    "    # second reconstruction\n",
    "    deb_rec2_ee = F.conv_transpose2d(deb_ee_comb_t, filt1_ee, stride=4)\n",
    "    # print(rec2_ee.data.numpy().shape)\n",
    "    deb_rec2_ee += Variable(torch.from_numpy(mean1_ee))\n",
    "    deb_rec2_ee = deb_rec2_ee.data.numpy()\n",
    "    print('final reconstructed shape: ', deb_rec2_ee.shape)\n",
    "    plt.imshow(deb_rec2_ee[5,0,:,:])\n",
    "    plt.show()\n",
    "    return deb_rec2_ee"
   ]
  },
  {
   "cell_type": "code",
   "execution_count": null,
   "metadata": {},
   "outputs": [],
   "source": [
    "deb_rec2_ee = debug_throw_1st_res1(deb_res2_ee, deb_filt2_ee, deb_mean2_ee, filt1_ee, mean1_ee)\n",
    "deb_rec2_eo = debug_throw_1st_res1(deb_res2_eo, deb_filt2_eo, deb_mean2_eo, filt1_eo, mean1_eo)\n",
    "deb_rec2_oe = debug_throw_1st_res1(deb_res2_oe, deb_filt2_oe, deb_mean2_oe, filt1_oe, mean1_oe)\n",
    "deb_rec2_oo = debug_throw_1st_res1(deb_res2_oo, deb_filt2_oo, deb_mean2_oo, filt1_oo, mean1_oo)"
   ]
  },
  {
   "cell_type": "code",
   "execution_count": 32,
   "metadata": {},
   "outputs": [],
   "source": [
    "'''\n",
    "@ reconstruction: using low freq part\n",
    "'''\n",
    "def two_recon(res2_ee_low, filt2_ee_low, mean2_ee_low, filt1_ee, mean1_ee, res1_ee_mid=None, res1_ee_hig=None):\n",
    "    # first recon\n",
    "    # res2_ee_low_r = np.flip(res2_ee_low, axis=1)\n",
    "    res2_ee_lowt = Variable(torch.from_numpy(res2_ee_low))\n",
    "    rec1_ee_low = F.conv_transpose2d(res2_ee_lowt, filt2_ee_low, stride=4)\n",
    "    print('reconstructed low freq shape:', rec1_ee_low.data.numpy().shape)\n",
    "    rec1_ee_low += Variable(torch.from_numpy(mean2_ee_low))\n",
    "    # debugrec1_ee = debugrec1_ee.data.numpy()\n",
    "\n",
    "    # concatenate with mid and high\n",
    "    print('---combination starts---')\n",
    "    if (low_channel != mid_channel): # low<mid \n",
    "        if (hig_channel != 0): # low<mid<high\n",
    "            res1_ee_hig_t = Variable(torch.from_numpy(res1_ee_hig)).type(torch.FloatTensor)\n",
    "            res1_ee_mid_t = Variable(torch.from_numpy(res1_ee_mid))\n",
    "            ee_comb1_t = torch.cat((rec1_ee_low, res1_ee_mid_t), 1)\n",
    "            # print(ee_comb1.data.numpy().shape)\n",
    "            ee_comb_t = torch.cat((ee_comb1_t, res1_ee_hig_t), 1)\n",
    "        else: # low<mid=high\n",
    "            ee_comb_t = torch.cat((rec1_ee_low, res1_ee_mid_t), 1)\n",
    "\n",
    "    else: # low=mid  \n",
    "        if (hig_channel != 0): # low=mid<16\n",
    "            res1_ee_hig_t = Variable(torch.from_numpy(res1_ee_hig)).type(torch.FloatTensor)\n",
    "            ee_comb_t = torch.cat((rec1_ee_low, res1_ee_hig_t), 1)\n",
    "        else: # low=mid=16\n",
    "            ee_comb = deepcopy(rec1_ee_low.data.numpy())\n",
    "            ee_comb_t = Variable(torch.from_numpy(ee_comb))\n",
    "    print('first comb shape: ', ee_comb_t.data.numpy().shape)\n",
    "    \n",
    "#     ee_comb = ee_comb_t.data.numpy()\n",
    "#     ee_comb_r = np.flip(ee_comb, axis=1)\n",
    "#     ee_comb_rt = Variable(torch.from_numpy(ee_comb_r.copy()))\n",
    "\n",
    "    # second recon\n",
    "    rec2_ee = F.conv_transpose2d(ee_comb_t, filt1_ee, stride=4)\n",
    "    # print(rec2_ee.data.numpy().shape)\n",
    "    rec2_ee += Variable(torch.from_numpy(mean1_ee))\n",
    "    rec2_ee = rec2_ee.data.numpy()\n",
    "    print('final reconstructed shape: ', rec2_ee.shape)\n",
    "    plt.imshow(rec2_ee[5,0,:,:])\n",
    "    plt.show()\n",
    "    # psnr(train_ee[5,0,:,:], rec2_ee[5,0,:,:])\n",
    "    return rec2_ee\n",
    "\n"
   ]
  },
  {
   "cell_type": "code",
   "execution_count": 33,
   "metadata": {},
   "outputs": [
    {
     "name": "stdout",
     "output_type": "stream",
     "text": [
      "reconstructed low freq shape: (1000, 15, 4, 4)\n",
      "---combination starts---\n",
      "first comb shape:  (1000, 16, 4, 4)\n",
      "final reconstructed shape:  (1000, 1, 16, 16)\n"
     ]
    },
    {
     "data": {
      "image/png": "[encoded data removed]",
      "text/plain": [
       "<matplotlib.figure.Figure at 0x1a3b88a908>"
      ]
     },
     "metadata": {},
     "output_type": "display_data"
    },
    {
     "name": "stdout",
     "output_type": "stream",
     "text": [
      "reconstructed low freq shape: (1000, 15, 4, 4)\n",
      "---combination starts---\n",
      "first comb shape:  (1000, 16, 4, 4)\n",
      "final reconstructed shape:  (1000, 1, 16, 16)\n"
     ]
    },
    {
     "data": {
      "image/png": "[encoded data removed]",
      "text/plain": [
       "<matplotlib.figure.Figure at 0x1a3b88ac88>"
      ]
     },
     "metadata": {},
     "output_type": "display_data"
    },
    {
     "name": "stdout",
     "output_type": "stream",
     "text": [
      "reconstructed low freq shape: (1000, 15, 4, 4)\n",
      "---combination starts---\n",
      "first comb shape:  (1000, 16, 4, 4)\n",
      "final reconstructed shape:  (1000, 1, 16, 16)\n"
     ]
    },
    {
     "data": {
      "image/png": "[encoded data removed]",
      "text/plain": [
       "<matplotlib.figure.Figure at 0x1a3b7dc978>"
      ]
     },
     "metadata": {},
     "output_type": "display_data"
    },
    {
     "name": "stdout",
     "output_type": "stream",
     "text": [
      "reconstructed low freq shape: (1000, 15, 4, 4)\n",
      "---combination starts---\n",
      "first comb shape:  (1000, 16, 4, 4)\n",
      "final reconstructed shape:  (1000, 1, 16, 16)\n"
     ]
    },
    {
     "data": {
      "image/png": "[encoded data removed]",
      "text/plain": [
       "<matplotlib.figure.Figure at 0x1a3eced550>"
      ]
     },
     "metadata": {},
     "output_type": "display_data"
    }
   ],
   "source": [
    "rec2_ee = two_recon(res2_ee_low, filt2_ee_low, mean2_ee_low, filt1_ee, mean1_ee, res1_ee_hig=res1_ee_hig)\n",
    "rec2_eo = two_recon(res2_eo_low, filt2_eo_low, mean2_eo_low, filt1_eo, mean1_eo, res1_ee_hig=res1_eo_hig)\n",
    "rec2_oe = two_recon(res2_oe_low, filt2_oe_low, mean2_oe_low, filt1_oe, mean1_oe, res1_ee_hig=res1_oe_hig)\n",
    "rec2_oo = two_recon(res2_oo_low, filt2_oo_low, mean2_oo_low, filt1_oo, mean1_oo, res1_ee_hig=res1_oo_hig)"
   ]
  },
  {
   "cell_type": "code",
   "execution_count": 34,
   "metadata": {
    "scrolled": false
   },
   "outputs": [],
   "source": [
    "'''\n",
    "@ reconstruct four images to one 32*32\n",
    "'''\n",
    "def reverse_downsample(rec2_ee, rec2_eo, rec2_oe, rec2_oo):\n",
    "    syn = np.zeros((sample_num,1,32,32))\n",
    "    print(syn[:,:,1::2,1::2].shape)\n",
    "    syn[:,:,0:-1:2,0:-1:2]=rec2_ee\n",
    "    syn[:,:,0:-1:2,1::2]=rec2_eo\n",
    "    syn[:,:,1::2,0:-1:2]=rec2_oe\n",
    "    syn[:,:,1::2,1::2]=rec2_oo\n",
    "\n",
    "    # print(syn[5,0,0:31, 0:31])\n",
    "    plt.imshow(syn[5,0,:,:])\n",
    "    plt.show()\n",
    "    print('psnr:', psnr(train_digits_of_interest[5,0,:,:], syn[5,0,:,:]))\n",
    "    return syn"
   ]
  },
  {
   "cell_type": "code",
   "execution_count": 35,
   "metadata": {},
   "outputs": [
    {
     "name": "stdout",
     "output_type": "stream",
     "text": [
      "(1000, 1, 16, 16)\n"
     ]
    },
    {
     "data": {
      "image/png": "[encoded data removed]",
      "text/plain": [
       "<matplotlib.figure.Figure at 0x1a3ed53d68>"
      ]
     },
     "metadata": {},
     "output_type": "display_data"
    },
    {
     "name": "stdout",
     "output_type": "stream",
     "text": [
      "psnr: -5.94746042276989\n"
     ]
    }
   ],
   "source": [
    "deb_syn = reverse_downsample(deb_train_ee_1, deb_train_eo_1, deb_train_oe_1, deb_train_oo_1)"
   ]
  },
  {
   "cell_type": "code",
   "execution_count": 44,
   "metadata": {
    "scrolled": true
   },
   "outputs": [
    {
     "name": "stdout",
     "output_type": "stream",
     "text": [
      "(1000, 1, 16, 16)\n"
     ]
    },
    {
     "data": {
      "image/png": "[encoded data removed]",
      "text/plain": [
       "<matplotlib.figure.Figure at 0x1a3b7f9128>"
      ]
     },
     "metadata": {},
     "output_type": "display_data"
    },
    {
     "name": "stdout",
     "output_type": "stream",
     "text": [
      "psnr: -6.1628271817034355\n"
     ]
    }
   ],
   "source": [
    "deb_syn_2 = reverse_downsample(deb_train_ee_2, deb_train_eo_2, deb_train_oe_2, deb_train_oo_2)"
   ]
  },
  {
   "cell_type": "code",
   "execution_count": 46,
   "metadata": {},
   "outputs": [
    {
     "name": "stdout",
     "output_type": "stream",
     "text": [
      "(1000, 1, 16, 16)\n"
     ]
    },
    {
     "data": {
      "image/png": "[encoded data removed]",
      "text/plain": [
       "<matplotlib.figure.Figure at 0x1a3b4237b8>"
      ]
     },
     "metadata": {},
     "output_type": "display_data"
    },
    {
     "name": "stdout",
     "output_type": "stream",
     "text": [
      "psnr: -3.793913660834725\n"
     ]
    }
   ],
   "source": [
    "deb_syn_3 = reverse_downsample(deb_train_ee_3, deb_train_eo_3, deb_train_oe_3, deb_train_oo_3)"
   ]
  },
  {
   "cell_type": "code",
   "execution_count": 36,
   "metadata": {},
   "outputs": [
    {
     "name": "stdout",
     "output_type": "stream",
     "text": [
      "(1, 32, 32)\n"
     ]
    },
    {
     "data": {
      "text/plain": [
       "<matplotlib.image.AxesImage at 0x1a3f037320>"
      ]
     },
     "execution_count": 36,
     "metadata": {},
     "output_type": "execute_result"
    },
    {
     "data": {
      "image/png": "[encoded data removed]",
      "text/plain": [
       "<matplotlib.figure.Figure at 0x1a3ed17fd0>"
      ]
     },
     "metadata": {},
     "output_type": "display_data"
    }
   ],
   "source": [
    "err_1 = train_digits_of_interest[5,:,:,:] - deb_syn[5,:,:,:]\n",
    "print(err_1.shape)\n",
    "plt.imshow(err_1[0,:,:])"
   ]
  },
  {
   "cell_type": "code",
   "execution_count": 37,
   "metadata": {},
   "outputs": [
    {
     "name": "stdout",
     "output_type": "stream",
     "text": [
      "(1000, 1, 16, 16)\n"
     ]
    },
    {
     "data": {
      "image/png": "[encoded data removed]",
      "text/plain": [
       "<matplotlib.figure.Figure at 0x1a3f03f780>"
      ]
     },
     "metadata": {},
     "output_type": "display_data"
    },
    {
     "name": "stdout",
     "output_type": "stream",
     "text": [
      "psnr: 3.97850859678917\n"
     ]
    }
   ],
   "source": [
    "deb_syn_16 = reverse_downsample(deb_train_ee_16, deb_train_eo_16, deb_train_oe_16, deb_train_oo_16)"
   ]
  },
  {
   "cell_type": "code",
   "execution_count": 32,
   "metadata": {},
   "outputs": [
    {
     "name": "stdout",
     "output_type": "stream",
     "text": [
      "(1000, 1, 16, 16)\n"
     ]
    },
    {
     "data": {
      "image/png": "[encoded data removed]",
      "text/plain": [
       "<matplotlib.figure.Figure at 0x1a218a31d0>"
      ]
     },
     "metadata": {},
     "output_type": "display_data"
    },
    {
     "name": "stdout",
     "output_type": "stream",
     "text": [
      "psnr: -4.5169938737864985\n"
     ]
    }
   ],
   "source": [
    "deb_syn_7 = reverse_downsample(deb_train_ee_7, deb_train_eo_7, deb_train_oe_7, deb_train_oo_7)"
   ]
  },
  {
   "cell_type": "code",
   "execution_count": 34,
   "metadata": {},
   "outputs": [
    {
     "name": "stdout",
     "output_type": "stream",
     "text": [
      "(1000, 1, 16, 16)\n"
     ]
    },
    {
     "data": {
      "image/png": "[encoded data removed]",
      "text/plain": [
       "<matplotlib.figure.Figure at 0x1a21dee470>"
      ]
     },
     "metadata": {},
     "output_type": "display_data"
    },
    {
     "name": "stdout",
     "output_type": "stream",
     "text": [
      "psnr: 1.4542349393309628\n"
     ]
    }
   ],
   "source": [
    "deb_syn_13 = reverse_downsample(deb_train_ee_13, deb_train_eo_13, deb_train_oe_13, deb_train_oo_13)"
   ]
  },
  {
   "cell_type": "code",
   "execution_count": 38,
   "metadata": {},
   "outputs": [
    {
     "name": "stdout",
     "output_type": "stream",
     "text": [
      "(1000, 1, 16, 16)\n"
     ]
    },
    {
     "data": {
      "image/png": "[encoded data removed]",
      "text/plain": [
       "<matplotlib.figure.Figure at 0x1a3eeb5dd8>"
      ]
     },
     "metadata": {},
     "output_type": "display_data"
    },
    {
     "name": "stdout",
     "output_type": "stream",
     "text": [
      "psnr: 3.978506920022509\n"
     ]
    }
   ],
   "source": [
    "syn = reverse_downsample(rec2_ee, rec2_eo, rec2_oe, rec2_oo)"
   ]
  },
  {
   "cell_type": "code",
   "execution_count": 41,
   "metadata": {},
   "outputs": [
    {
     "name": "stdout",
     "output_type": "stream",
     "text": [
      "(1, 32, 32)\n"
     ]
    },
    {
     "data": {
      "text/plain": [
       "<matplotlib.image.AxesImage at 0x1a3eb5c9e8>"
      ]
     },
     "execution_count": 41,
     "metadata": {},
     "output_type": "execute_result"
    },
    {
     "data": {
      "image/png": "[encoded data removed]",
      "text/plain": [
       "<matplotlib.figure.Figure at 0x1a23615518>"
      ]
     },
     "metadata": {},
     "output_type": "display_data"
    }
   ],
   "source": [
    "err_2 = (deb_syn_16-syn)[5,:,:,:]\n",
    "print(err_2.shape)\n",
    "plt.imshow(err_2[0,:,:])"
   ]
  },
  {
   "cell_type": "code",
   "execution_count": null,
   "metadata": {},
   "outputs": [],
   "source": []
  }
 ],
 "metadata": {
  "kernelspec": {
   "display_name": "Python 3",
   "language": "python",
   "name": "python3"
  },
  "language_info": {
   "codemirror_mode": {
    "name": "ipython",
    "version": 3
   },
   "file_extension": ".py",
   "mimetype": "text/x-python",
   "name": "python",
   "nbconvert_exporter": "python",
   "pygments_lexer": "ipython3",
   "version": "3.6.4"
  }
 },
 "nbformat": 4,
 "nbformat_minor": 2
}
